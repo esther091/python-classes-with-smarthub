{
 "cells": [
  {
   "cell_type": "code",
   "execution_count": 2,
   "id": "6ded8055-93db-49e4-9fb8-4ac685e0435e",
   "metadata": {},
   "outputs": [
    {
     "name": "stdout",
     "output_type": "stream",
     "text": [
      "Probability of black is 0.5\n"
     ]
    }
   ],
   "source": [
    "number_of_red =2\n",
    "number_of_blue=5\n",
    "number_of_black=7\n",
    "total_number_of_balls= number_of_red+number_of_blue+number_of_black\n",
    "prob_of_black= number_of_black/total_number_of_balls\n",
    "print(\"Probability of black is\",prob_of_black)"
   ]
  },
  {
   "cell_type": "markdown",
   "id": "b2623ff6-1dab-4642-a626-4480888ed29d",
   "metadata": {},
   "source": [
    "## String Datatype"
   ]
  },
  {
   "cell_type": "markdown",
   "id": "11671f3c-e8aa-456f-8207-856939827200",
   "metadata": {},
   "source": [
    "A string datatype is a datatype that holds strings or characters"
   ]
  },
  {
   "cell_type": "code",
   "execution_count": 4,
   "id": "2aa2c78a-1973-4077-8718-0a08d9c25ee0",
   "metadata": {},
   "outputs": [
    {
     "name": "stdout",
     "output_type": "stream",
     "text": [
      "Chinemerem\n"
     ]
    }
   ],
   "source": [
    "first_name = \"Chinemerem\"\n",
    "second_name = 'Esther'\n",
    "last_name = \"\"\"Mgbedo\"\"\"\n",
    "state= '''Imo State'''\n",
    "print(first_name)"
   ]
  },
  {
   "cell_type": "code",
   "execution_count": 6,
   "id": "3be1453a-e735-4833-8fc7-fbf6b26ab4ae",
   "metadata": {},
   "outputs": [
    {
     "name": "stdout",
     "output_type": "stream",
     "text": [
      "Esther\n",
      "Mgbedo\n",
      "Imo State\n"
     ]
    }
   ],
   "source": [
    "print(second_name)\n",
    "print(last_name)\n",
    "print(state)"
   ]
  },
  {
   "cell_type": "code",
   "execution_count": 7,
   "id": "32989834-f731-41fd-8f7a-d938081b4a45",
   "metadata": {},
   "outputs": [
    {
     "data": {
      "text/plain": [
       "10"
      ]
     },
     "execution_count": 7,
     "metadata": {},
     "output_type": "execute_result"
    }
   ],
   "source": [
    "len(first_name)"
   ]
  },
  {
   "cell_type": "code",
   "execution_count": 11,
   "id": "2748310b-69d0-4f80-b1f1-96cc56065d54",
   "metadata": {},
   "outputs": [
    {
     "name": "stdout",
     "output_type": "stream",
     "text": [
      "ChinemeremEstherMgbedo\n"
     ]
    }
   ],
   "source": [
    "full_name= first_name+second_name+last_name\n",
    "print(full_name)"
   ]
  },
  {
   "cell_type": "code",
   "execution_count": 14,
   "id": "a0d61c69-6902-497f-a534-6aac51337f8c",
   "metadata": {},
   "outputs": [
    {
     "name": "stdout",
     "output_type": "stream",
     "text": [
      "Mgbedo, Esther Chinemerem\n"
     ]
    }
   ],
   "source": [
    "print(last_name+\", \" +second_name+\" \" + first_name)"
   ]
  },
  {
   "cell_type": "code",
   "execution_count": 15,
   "id": "1229874e-3327-4487-940e-30d9dea6d6fc",
   "metadata": {},
   "outputs": [],
   "source": [
    "full_name= last_name+\", \" +second_name+\" \" + first_name"
   ]
  },
  {
   "cell_type": "code",
   "execution_count": 16,
   "id": "b2d239a2-6523-4e19-aed0-d7ccb77c32ec",
   "metadata": {},
   "outputs": [
    {
     "name": "stdout",
     "output_type": "stream",
     "text": [
      "Mgbedo, Esther Chinemerem\n"
     ]
    }
   ],
   "source": [
    "print(full_name)"
   ]
  },
  {
   "cell_type": "markdown",
   "id": "a3455a26-6769-4b8f-8527-2a7ae60d8ed4",
   "metadata": {},
   "source": [
    "## String Interpolation"
   ]
  },
  {
   "cell_type": "code",
   "execution_count": 18,
   "id": "da854971-a7bd-4dcd-897f-75fad863a8b8",
   "metadata": {},
   "outputs": [
    {
     "name": "stdout",
     "output_type": "stream",
     "text": [
      "my name is Mgbedo Esther Chinemerem\n"
     ]
    }
   ],
   "source": [
    "full_name = f\"my name is {last_name} {second_name} {first_name}\"\n",
    "print(full_name)"
   ]
  },
  {
   "cell_type": "code",
   "execution_count": 22,
   "id": "29b4b675-94d3-4760-bbd4-8c4df2d9effd",
   "metadata": {},
   "outputs": [
    {
     "name": "stdin",
     "output_type": "stream",
     "text": [
      "Enter your name:  Mgbedo Chinemerem Esther\n",
      "Enter your state:  Imo State\n",
      "Enter your age:  20\n"
     ]
    },
    {
     "name": "stdout",
     "output_type": "stream",
     "text": [
      "Mgbedo Chinemerem Esther is 20 years old and is from Imo State\n"
     ]
    }
   ],
   "source": [
    "name = input(\"Enter your name: \")\n",
    "state = input(\"Enter your state: \")\n",
    "age = int(input(\"Enter your age: \"))\n",
    "sentence = f\"{name} is {age} years old and is from {state} state\"\n",
    "print(sentence)"
   ]
  },
  {
   "cell_type": "markdown",
   "id": "32b9de48-188c-4b07-98b1-605eec58cc6f",
   "metadata": {},
   "source": [
    "## String Indexing & Slicing"
   ]
  },
  {
   "cell_type": "code",
   "execution_count": 27,
   "id": "1b8b62c1-0f78-4e97-9f59-16a31225c41f",
   "metadata": {},
   "outputs": [
    {
     "data": {
      "text/plain": [
       "'tooth[4]'"
      ]
     },
     "execution_count": 27,
     "metadata": {},
     "output_type": "execute_result"
    }
   ],
   "source": [
    "\"tooth[4]\""
   ]
  },
  {
   "cell_type": "code",
   "execution_count": 28,
   "id": "1fa5b341-354b-4855-92a1-6fbe73285367",
   "metadata": {},
   "outputs": [
    {
     "name": "stdin",
     "output_type": "stream",
     "text": [
      "Enter a name:  Esther\n"
     ]
    },
    {
     "name": "stdout",
     "output_type": "stream",
     "text": [
      "The last character of your name is r\n"
     ]
    }
   ],
   "source": [
    "name= input(\"Enter a name: \")\n",
    "length = len(name)\n",
    "print(f\"The last character of your name is {name[length-1]}\")"
   ]
  },
  {
   "cell_type": "markdown",
   "id": "4c6fc1a8-1d23-4b89-8817-91a2ac5c0a8d",
   "metadata": {},
   "source": [
    "## Exercise 5- Bottle Deposits"
   ]
  },
  {
   "cell_type": "raw",
   "id": "91462f81-b59b-473b-9637-e55f61f0b770",
   "metadata": {},
   "source": [
    "#A program that reads number of containers and displays the result"
   ]
  },
  {
   "cell_type": "code",
   "execution_count": 32,
   "id": "a3274e3a-80af-48d5-b559-95a2ee322033",
   "metadata": {},
   "outputs": [
    {
     "name": "stdin",
     "output_type": "stream",
     "text": [
      "How many containers 1 litre or less do you have?  5\n",
      "How many containers  more than 1 litre do you have?  10\n"
     ]
    },
    {
     "name": "stdout",
     "output_type": "stream",
     "text": [
      "Your refund amount is 3.00$\n"
     ]
    }
   ],
   "source": [
    "less_container_deposit = 0.10\n",
    "more_container_deposit = 0.25\n",
    "\n",
    "less= int(input(\"How many containers 1 litre or less do you have? \"))\n",
    "more= int(input(\"How many containers  more than 1 litre do you have? \"))\n",
    "\n",
    "refund= (less*less_container_deposit) + (more*more_container_deposit\n",
    "\n",
    "print(f\"Your refund amount is {refund:.2f}$\")"
   ]
  },
  {
   "cell_type": "markdown",
   "id": "6f97af76-f0c2-4cc7-a5c7-d71c70ab7be6",
   "metadata": {},
   "source": [
    "## Exercise 6 - Tax and Tip"
   ]
  },
  {
   "cell_type": "code",
   "execution_count": 45,
   "id": "33dcdeb5-25a8-4b3b-a3df-14a3b4463b3c",
   "metadata": {},
   "outputs": [
    {
     "name": "stdin",
     "output_type": "stream",
     "text": [
      "What is the cost of the meal you ordered in $?  100\n"
     ]
    },
    {
     "name": "stdout",
     "output_type": "stream",
     "text": [
      "Your tax amount, tip amount, and total amount is  10.00$,  18.00$,  128.00$, respectively.\n"
     ]
    }
   ],
   "source": [
    "# Calculating tax and tip rate of a user\n",
    "\n",
    "tax_rate = 0.10\n",
    "tip_rate = 0.18\n",
    "\n",
    "meal_cost = float(input(\"What is the cost of the meal you ordered in $? \"))\n",
    "tax_amount = meal_cost * tax_rate\n",
    "tip_amount = meal_cost * tip_rate\n",
    "Total_amount = meal_cost + tax_amount + tip_amount\n",
    "\n",
    "print(f\"Your tax amount, tip amount, and total amount is {tax_amount: .2f}$, {tip_amount: .2f}$, {Total_amount: .2f}$, respectively.\")\n"
   ]
  },
  {
   "cell_type": "markdown",
   "id": "1f07fe89-e057-4f83-acc5-72e839350583",
   "metadata": {},
   "source": [
    "# Exercise 8: Widgets and Gizmos"
   ]
  },
  {
   "cell_type": "code",
   "execution_count": 49,
   "id": "39668925-74fd-4f13-8a08-3426c0961b3e",
   "metadata": {},
   "outputs": [
    {
     "name": "stdin",
     "output_type": "stream",
     "text": [
      "Enter the number of widgets:  5\n",
      "Enter the number of gizmos:  3\n"
     ]
    },
    {
     "name": "stdout",
     "output_type": "stream",
     "text": [
      "The total weight of your order is 711g\n"
     ]
    }
   ],
   "source": [
    "# calculating total weight of widgets and gizmos\n",
    "\n",
    "widget= int(input(\"Enter the number of widgets: \"))\n",
    "gizmos= int(input(\"Enter the number of gizmos: \"))\n",
    "\n",
    "widget_weight = widget*75\n",
    "gizmos_weight = gizmos*112\n",
    "\n",
    "total_weight = widget_weight + gizmos_weight\n",
    "\n",
    "print(f\"The total weight of your order is {total_weight}g\")\n"
   ]
  },
  {
   "cell_type": "code",
   "execution_count": null,
   "id": "29a15bdb-449f-4a0a-ab82-5f3257c097c3",
   "metadata": {},
   "outputs": [],
   "source": []
  }
 ],
 "metadata": {
  "kernelspec": {
   "display_name": "Python [conda env:base] *",
   "language": "python",
   "name": "conda-base-py"
  },
  "language_info": {
   "codemirror_mode": {
    "name": "ipython",
    "version": 3
   },
   "file_extension": ".py",
   "mimetype": "text/x-python",
   "name": "python",
   "nbconvert_exporter": "python",
   "pygments_lexer": "ipython3",
   "version": "3.12.7"
  }
 },
 "nbformat": 4,
 "nbformat_minor": 5
}
