{
 "cells": [
  {
   "cell_type": "markdown",
   "id": "d06c0c08-4560-4edb-b39a-87684b4c049e",
   "metadata": {},
   "source": [
    "# Boolean datatypes"
   ]
  },
  {
   "cell_type": "code",
   "execution_count": 1,
   "id": "b1bcc100-db21-49e6-bc4e-e6047a397786",
   "metadata": {},
   "outputs": [
    {
     "data": {
      "text/plain": [
       "True"
      ]
     },
     "execution_count": 1,
     "metadata": {},
     "output_type": "execute_result"
    }
   ],
   "source": [
    "True"
   ]
  },
  {
   "cell_type": "code",
   "execution_count": 2,
   "id": "1462637a-aec0-4b1a-9879-509270dc343c",
   "metadata": {},
   "outputs": [
    {
     "data": {
      "text/plain": [
       "False"
      ]
     },
     "execution_count": 2,
     "metadata": {},
     "output_type": "execute_result"
    }
   ],
   "source": [
    "False"
   ]
  },
  {
   "cell_type": "code",
   "execution_count": 5,
   "id": "b2d88d34-7aa6-48e0-80c5-8c5c4076a40b",
   "metadata": {},
   "outputs": [
    {
     "data": {
      "text/plain": [
       "True"
      ]
     },
     "execution_count": 5,
     "metadata": {},
     "output_type": "execute_result"
    }
   ],
   "source": [
    "has_paid"
   ]
  },
  {
   "cell_type": "code",
   "execution_count": 6,
   "id": "a3ce4b5e-0942-473a-8ba1-aae7295be0ac",
   "metadata": {},
   "outputs": [
    {
     "data": {
      "text/plain": [
       "bool"
      ]
     },
     "execution_count": 6,
     "metadata": {},
     "output_type": "execute_result"
    }
   ],
   "source": [
    "type(has_paid)"
   ]
  },
  {
   "cell_type": "markdown",
   "id": "e71f0d2f-0521-408a-b66a-bd8b40346b49",
   "metadata": {},
   "source": [
    "## Relational/Comparism Comparators"
   ]
  },
  {
   "cell_type": "code",
   "execution_count": 9,
   "id": "e04574a0-a0e8-4aaa-90be-1e7bbfeb2f9c",
   "metadata": {},
   "outputs": [
    {
     "data": {
      "text/plain": [
       "False"
      ]
     },
     "execution_count": 9,
     "metadata": {},
     "output_type": "execute_result"
    }
   ],
   "source": [
    "12==5"
   ]
  },
  {
   "cell_type": "code",
   "execution_count": 10,
   "id": "970d4279-61cf-408d-8b0d-97ff2970c3fa",
   "metadata": {},
   "outputs": [
    {
     "data": {
      "text/plain": [
       "True"
      ]
     },
     "execution_count": 10,
     "metadata": {},
     "output_type": "execute_result"
    }
   ],
   "source": [
    "12>7"
   ]
  },
  {
   "cell_type": "code",
   "execution_count": 11,
   "id": "fce8c144-6c31-4cc7-af0b-6b3ab26d91a6",
   "metadata": {},
   "outputs": [
    {
     "data": {
      "text/plain": [
       "True"
      ]
     },
     "execution_count": 11,
     "metadata": {},
     "output_type": "execute_result"
    }
   ],
   "source": [
    "2==2"
   ]
  },
  {
   "cell_type": "code",
   "execution_count": 13,
   "id": "280e0584-977f-4aed-a4bc-1675d2411f41",
   "metadata": {},
   "outputs": [
    {
     "data": {
      "text/plain": [
       "False"
      ]
     },
     "execution_count": 13,
     "metadata": {},
     "output_type": "execute_result"
    }
   ],
   "source": [
    "17==\"17\""
   ]
  },
  {
   "cell_type": "code",
   "execution_count": 14,
   "id": "73691db2-67a9-4434-a428-817431179371",
   "metadata": {},
   "outputs": [
    {
     "data": {
      "text/plain": [
       "False"
      ]
     },
     "execution_count": 14,
     "metadata": {},
     "output_type": "execute_result"
    }
   ],
   "source": [
    "10!=10"
   ]
  },
  {
   "cell_type": "code",
   "execution_count": 15,
   "id": "7b1b0e44-2969-4d22-94ff-7b531c2ed47e",
   "metadata": {},
   "outputs": [
    {
     "data": {
      "text/plain": [
       "True"
      ]
     },
     "execution_count": 15,
     "metadata": {},
     "output_type": "execute_result"
    }
   ],
   "source": [
    "12<=17"
   ]
  },
  {
   "cell_type": "markdown",
   "id": "48871076-96c3-476e-92d0-f7ec0924dc96",
   "metadata": {},
   "source": [
    "## Truthy and Falsy values"
   ]
  },
  {
   "cell_type": "code",
   "execution_count": 17,
   "id": "27158070-f183-4dbc-8fb0-dcc547e224ca",
   "metadata": {},
   "outputs": [
    {
     "data": {
      "text/plain": [
       "True"
      ]
     },
     "execution_count": 17,
     "metadata": {},
     "output_type": "execute_result"
    }
   ],
   "source": [
    "bool(\"Esther\")"
   ]
  },
  {
   "cell_type": "code",
   "execution_count": 18,
   "id": "9b776b4f-bf52-400e-bafc-f6321f9e88f3",
   "metadata": {},
   "outputs": [
    {
     "data": {
      "text/plain": [
       "False"
      ]
     },
     "execution_count": 18,
     "metadata": {},
     "output_type": "execute_result"
    }
   ],
   "source": [
    "bool(\"\")"
   ]
  },
  {
   "cell_type": "code",
   "execution_count": 19,
   "id": "b4f498f4-bfce-44cf-ae30-f141ba5e3e1e",
   "metadata": {},
   "outputs": [
    {
     "data": {
      "text/plain": [
       "True"
      ]
     },
     "execution_count": 19,
     "metadata": {},
     "output_type": "execute_result"
    }
   ],
   "source": [
    "bool(\" \")"
   ]
  },
  {
   "cell_type": "code",
   "execution_count": 20,
   "id": "9ef09955-9a68-43b9-8a78-da94eab1862a",
   "metadata": {},
   "outputs": [
    {
     "data": {
      "text/plain": [
       "False"
      ]
     },
     "execution_count": 20,
     "metadata": {},
     "output_type": "execute_result"
    }
   ],
   "source": [
    "bool(0)"
   ]
  },
  {
   "cell_type": "code",
   "execution_count": 21,
   "id": "5e42f407-2de6-4d6e-a4b5-56c6eca5a14c",
   "metadata": {},
   "outputs": [
    {
     "data": {
      "text/plain": [
       "True"
      ]
     },
     "execution_count": 21,
     "metadata": {},
     "output_type": "execute_result"
    }
   ],
   "source": [
    "bool(10)"
   ]
  },
  {
   "cell_type": "code",
   "execution_count": 22,
   "id": "541eff44-cae0-48da-80ec-f9ec67c91017",
   "metadata": {},
   "outputs": [
    {
     "data": {
      "text/plain": [
       "False"
      ]
     },
     "execution_count": 22,
     "metadata": {},
     "output_type": "execute_result"
    }
   ],
   "source": [
    "bool( )"
   ]
  },
  {
   "cell_type": "code",
   "execution_count": 23,
   "id": "4dfc3108-1417-46b3-bacb-856a53562625",
   "metadata": {},
   "outputs": [
    {
     "data": {
      "text/plain": [
       "True"
      ]
     },
     "execution_count": 23,
     "metadata": {},
     "output_type": "execute_result"
    }
   ],
   "source": [
    "bool(1)"
   ]
  },
  {
   "cell_type": "code",
   "execution_count": 24,
   "id": "9da5ff61-fdbe-460b-b997-597c8d13cee1",
   "metadata": {},
   "outputs": [
    {
     "data": {
      "text/plain": [
       "51"
      ]
     },
     "execution_count": 24,
     "metadata": {},
     "output_type": "execute_result"
    }
   ],
   "source": [
    "True + 50"
   ]
  },
  {
   "cell_type": "code",
   "execution_count": 25,
   "id": "be65131d-5c55-4e7a-a920-4cd5ae410c2c",
   "metadata": {},
   "outputs": [
    {
     "data": {
      "text/plain": [
       "1"
      ]
     },
     "execution_count": 25,
     "metadata": {},
     "output_type": "execute_result"
    }
   ],
   "source": [
    "True +0"
   ]
  },
  {
   "cell_type": "code",
   "execution_count": 26,
   "id": "d33413d4-de31-406e-9c7a-fe8ec3ab7dca",
   "metadata": {},
   "outputs": [
    {
     "data": {
      "text/plain": [
       "-100"
      ]
     },
     "execution_count": 26,
     "metadata": {},
     "output_type": "execute_result"
    }
   ],
   "source": [
    "False - 100"
   ]
  },
  {
   "cell_type": "code",
   "execution_count": 27,
   "id": "3425e84e-e697-4f8e-86a8-a52391a3a55b",
   "metadata": {},
   "outputs": [
    {
     "data": {
      "text/plain": [
       "-3"
      ]
     },
     "execution_count": 27,
     "metadata": {},
     "output_type": "execute_result"
    }
   ],
   "source": [
    "False-3"
   ]
  },
  {
   "cell_type": "code",
   "execution_count": 28,
   "id": "3de06f89-54e4-4b4d-8398-01309917983f",
   "metadata": {},
   "outputs": [
    {
     "data": {
      "text/plain": [
       "0"
      ]
     },
     "execution_count": 28,
     "metadata": {},
     "output_type": "execute_result"
    }
   ],
   "source": [
    "False*1000"
   ]
  },
  {
   "cell_type": "markdown",
   "id": "fe665d64-8eb1-4789-b6f0-fd932ed8c426",
   "metadata": {},
   "source": [
    "## Control Structures"
   ]
  },
  {
   "cell_type": "code",
   "execution_count": 29,
   "id": "b3378eeb-5ae9-44fc-b335-8a94701e0e1a",
   "metadata": {},
   "outputs": [
    {
     "name": "stdin",
     "output_type": "stream",
     "text": [
      "Enter age:  19\n"
     ]
    },
    {
     "name": "stdout",
     "output_type": "stream",
     "text": [
      "Adult\n"
     ]
    }
   ],
   "source": [
    "age = int(input(\"Enter age: \"))\n",
    "if age>=18:\n",
    "    print(\"Adult\")"
   ]
  },
  {
   "cell_type": "code",
   "execution_count": 31,
   "id": "2396cd36-3780-413b-9dd4-76bc233ea4e5",
   "metadata": {},
   "outputs": [
    {
     "name": "stdin",
     "output_type": "stream",
     "text": [
      "Enter age:  14\n"
     ]
    },
    {
     "name": "stdout",
     "output_type": "stream",
     "text": [
      "Teen\n"
     ]
    }
   ],
   "source": [
    "age = int(input(\"Enter age: \"))\n",
    "if age>=18:\n",
    "    print(\"Adult\")\n",
    "if age<18:\n",
    "    print(\"Teen\")"
   ]
  },
  {
   "cell_type": "code",
   "execution_count": 32,
   "id": "f8a3738b-79ea-43cb-9d2b-1f302e1939e0",
   "metadata": {},
   "outputs": [
    {
     "name": "stdin",
     "output_type": "stream",
     "text": [
      "Enter age:  66\n"
     ]
    },
    {
     "name": "stdout",
     "output_type": "stream",
     "text": [
      "Adult\n"
     ]
    }
   ],
   "source": [
    "age = int(input(\"Enter age: \"))\n",
    "if age>=18:\n",
    "    print(\"Adult\")\n",
    "else:\n",
    "    print(\"Teen\")"
   ]
  },
  {
   "cell_type": "code",
   "execution_count": 34,
   "id": "168fc7e0-7850-40a8-96ec-13c2c9a4bf97",
   "metadata": {},
   "outputs": [
    {
     "name": "stdin",
     "output_type": "stream",
     "text": [
      "Enter age:  67\n"
     ]
    },
    {
     "name": "stdout",
     "output_type": "stream",
     "text": [
      "Elderly\n"
     ]
    }
   ],
   "source": [
    "age = int(input(\"Enter age: \"))\n",
    "if age<18:\n",
    "    print(\"Teenager\")\n",
    "elif age<60:\n",
    "    print(\"Adult\")\n",
    "else:\n",
    "    print(\"Elderly\")"
   ]
  },
  {
   "cell_type": "code",
   "execution_count": 35,
   "id": "56e8916e-fa1b-47e5-86c9-8e8596b3973f",
   "metadata": {},
   "outputs": [
    {
     "name": "stdin",
     "output_type": "stream",
     "text": [
      "Enter a score:  -88\n"
     ]
    },
    {
     "name": "stdout",
     "output_type": "stream",
     "text": [
      "Invalid Entry\n"
     ]
    }
   ],
   "source": [
    "score = int(input(\"Enter a score: \"))\n",
    "if score >100:\n",
    "    print(\"Invalid Entry\")\n",
    "elif score >=70:\n",
    "    print(\"A\")\n",
    "elif score>=60:\n",
    "    print(\"B\")\n",
    "elif score>=50:\n",
    "    print(\"C\")\n",
    "elif score>=45:\n",
    "    print(\"D\")\n",
    "elif score>=40:\n",
    "    print(\"E\")\n",
    "elif score>=0:\n",
    "    print(\"F\")\n",
    "else:\n",
    "    print(\"Invalid Entry\")"
   ]
  },
  {
   "cell_type": "code",
   "execution_count": 36,
   "id": "358a546f-ee69-4bdb-9239-c3b932b60c89",
   "metadata": {},
   "outputs": [
    {
     "data": {
      "text/plain": [
       "False"
      ]
     },
     "execution_count": 36,
     "metadata": {},
     "output_type": "execute_result"
    }
   ],
   "source": [
    "13%2==0"
   ]
  },
  {
   "cell_type": "code",
   "execution_count": 37,
   "id": "1c9c15c3-68e5-4517-9e84-104ee53b0d14",
   "metadata": {},
   "outputs": [
    {
     "name": "stdout",
     "output_type": "stream",
     "text": [
      "Even\n"
     ]
    }
   ],
   "source": [
    "number = 34\n",
    "if number % 2==0:\n",
    "    print(\"Even\")\n",
    "else:\n",
    "    print(\"Odd\")"
   ]
  },
  {
   "cell_type": "code",
   "execution_count": 38,
   "id": "34f71ac0-b7b3-4e5f-b42a-70f46bc9f6e5",
   "metadata": {},
   "outputs": [
    {
     "name": "stdout",
     "output_type": "stream",
     "text": [
      "Odd\n"
     ]
    }
   ],
   "source": [
    "number = 55\n",
    "if number % 2==0:\n",
    "    print(\"Even\")\n",
    "else:\n",
    "    print(\"Odd\")"
   ]
  },
  {
   "cell_type": "code",
   "execution_count": 43,
   "id": "be77fecc-5e44-4754-b3d3-151bfc23f9df",
   "metadata": {},
   "outputs": [
    {
     "name": "stdin",
     "output_type": "stream",
     "text": [
      "Enter a number:  15\n"
     ]
    },
    {
     "name": "stdout",
     "output_type": "stream",
     "text": [
      "Fizz\n"
     ]
    }
   ],
   "source": [
    "number = int(input(\"Enter a number: \"))\n",
    "if number %3 ==0:\n",
    "    print(\"Fizz\")\n",
    "elif number % 5 ==0:\n",
    "    print(\"Buzz\")\n",
    "elif number %15==0:\n",
    "    print(\"FizzBuzz\")"
   ]
  },
  {
   "cell_type": "code",
   "execution_count": 46,
   "id": "bdbe2694-f1a6-4799-860b-eda8e6da89a6",
   "metadata": {},
   "outputs": [
    {
     "name": "stdin",
     "output_type": "stream",
     "text": [
      "Enter a number:  47\n"
     ]
    },
    {
     "name": "stdout",
     "output_type": "stream",
     "text": [
      "enter a divisible number within the range\n"
     ]
    }
   ],
   "source": [
    "number = int(input(\"Enter a number: \"))\n",
    "if number %3 ==0:\n",
    "    print(\"Fizz\")\n",
    "elif number % 5 ==0:\n",
    "    print(\"Buzz\")\n",
    "elif number %15==0:\n",
    "    print(\"FizzBuzz\")\n",
    "else:\n",
    "    print(\"enter a divisible number within the range\")"
   ]
  },
  {
   "cell_type": "code",
   "execution_count": 47,
   "id": "27dd6071-4432-4725-b0d5-dfa12dc5c755",
   "metadata": {},
   "outputs": [
    {
     "data": {
      "text/plain": [
       "1"
      ]
     },
     "execution_count": 47,
     "metadata": {},
     "output_type": "execute_result"
    }
   ],
   "source": [
    "13%3"
   ]
  },
  {
   "cell_type": "code",
   "execution_count": 48,
   "id": "552b26a5-e069-4b02-a1bb-a988edccdbb5",
   "metadata": {},
   "outputs": [
    {
     "data": {
      "text/plain": [
       "0"
      ]
     },
     "execution_count": 48,
     "metadata": {},
     "output_type": "execute_result"
    }
   ],
   "source": [
    "12%2"
   ]
  },
  {
   "cell_type": "code",
   "execution_count": 49,
   "id": "c8a11c59-b550-4dcb-a174-941e0366fe21",
   "metadata": {},
   "outputs": [
    {
     "name": "stdin",
     "output_type": "stream",
     "text": [
      "Enter a number:  30\n"
     ]
    },
    {
     "name": "stdout",
     "output_type": "stream",
     "text": [
      "Fizz\n"
     ]
    }
   ],
   "source": [
    "number = int(input(\"Enter a number: \"))\n",
    "if number %3 ==0:\n",
    "    print(\"Fizz\")\n",
    "elif number % 5 ==0:\n",
    "    print(\"Buzz\")\n",
    "elif number %15==0:\n",
    "    print(\"FizzBuzz\")"
   ]
  },
  {
   "cell_type": "code",
   "execution_count": 50,
   "id": "249e6c68-d948-430d-8c2e-dfa11eba203c",
   "metadata": {},
   "outputs": [
    {
     "name": "stdin",
     "output_type": "stream",
     "text": [
      "Enter a number:  35\n"
     ]
    },
    {
     "name": "stdout",
     "output_type": "stream",
     "text": [
      "Buzz\n"
     ]
    }
   ],
   "source": [
    "number = int(input(\"Enter a number: \"))\n",
    "if number %3 ==0:\n",
    "    print(\"Fizz\")\n",
    "if number % 5 ==0:\n",
    "    print(\"Buzz\")\n",
    "if number %15==0:\n",
    "    print(\"FizzBuzz\")"
   ]
  },
  {
   "cell_type": "code",
   "execution_count": 51,
   "id": "f6f32a9c-25c1-4920-9b75-c2032eea487a",
   "metadata": {},
   "outputs": [
    {
     "name": "stdin",
     "output_type": "stream",
     "text": [
      "Enter a number:  45\n"
     ]
    },
    {
     "name": "stdout",
     "output_type": "stream",
     "text": [
      "Fizz\n",
      "Buzz\n",
      "FizzBuzz\n"
     ]
    }
   ],
   "source": [
    "number = int(input(\"Enter a number: \"))\n",
    "if number %3 ==0:\n",
    "    print(\"Fizz\")\n",
    "if number % 5 ==0:\n",
    "    print(\"Buzz\")\n",
    "if number %15==0:\n",
    "    print(\"FizzBuzz\")"
   ]
  },
  {
   "cell_type": "code",
   "execution_count": 53,
   "id": "18ed7828-23a6-4d6a-91f1-5d744b9d5d75",
   "metadata": {},
   "outputs": [
    {
     "name": "stdin",
     "output_type": "stream",
     "text": [
      "Enter a number:  90\n"
     ]
    },
    {
     "name": "stdout",
     "output_type": "stream",
     "text": [
      "FizzBuzz\n"
     ]
    }
   ],
   "source": [
    "number = int(input(\"Enter a number: \"))\n",
    "\n",
    "if number %15==0:\n",
    "    print(\"FizzBuzz\")\n",
    "elif number %3 ==0:\n",
    "    print(\"Fizz\")\n",
    "elif number % 5 ==0:\n",
    "    print(\"Buzz\")"
   ]
  },
  {
   "cell_type": "markdown",
   "id": "2d9c8c46-8200-4525-88be-016d5793f835",
   "metadata": {},
   "source": [
    "## Day 3"
   ]
  },
  {
   "cell_type": "markdown",
   "id": "f08e59de-af93-414a-8e69-66445a2e763b",
   "metadata": {},
   "source": [
    "## while loops and lists"
   ]
  },
  {
   "cell_type": "code",
   "execution_count": 54,
   "id": "47ebb448-30dc-4604-b1bc-033402ac0b2c",
   "metadata": {},
   "outputs": [
    {
     "name": "stdin",
     "output_type": "stream",
     "text": [
      "Enter a name:  Esther\n"
     ]
    },
    {
     "name": "stdout",
     "output_type": "stream",
     "text": [
      "Your name is Esther\n"
     ]
    },
    {
     "name": "stdin",
     "output_type": "stream",
     "text": [
      "Enter a name:  Chibuike\n"
     ]
    },
    {
     "name": "stdout",
     "output_type": "stream",
     "text": [
      "Your name is Chibuike\n"
     ]
    },
    {
     "name": "stdin",
     "output_type": "stream",
     "text": [
      "Enter a name:  Precious\n"
     ]
    },
    {
     "name": "stdout",
     "output_type": "stream",
     "text": [
      "Your name is Precious\n"
     ]
    },
    {
     "name": "stdin",
     "output_type": "stream",
     "text": [
      "Enter a name:  Anosike\n"
     ]
    },
    {
     "name": "stdout",
     "output_type": "stream",
     "text": [
      "Your name is Anosike\n"
     ]
    },
    {
     "name": "stdin",
     "output_type": "stream",
     "text": [
      "Enter a name:  Chinemerem\n"
     ]
    },
    {
     "name": "stdout",
     "output_type": "stream",
     "text": [
      "Your name is Chinemerem\n"
     ]
    }
   ],
   "source": [
    "for i in range(5):\n",
    "    name= input(\"Enter a name: \")\n",
    "    print(f\"Your name is {name}\")"
   ]
  },
  {
   "cell_type": "code",
   "execution_count": 55,
   "id": "3a4bf4a4-3690-4185-a6ea-86989a75d6ca",
   "metadata": {},
   "outputs": [],
   "source": [
    "# while cond:\n",
    "#     do_something"
   ]
  },
  {
   "cell_type": "code",
   "execution_count": 56,
   "id": "a758a245-9dbc-40fc-b5c1-bfd49649803e",
   "metadata": {},
   "outputs": [
    {
     "ename": "NameError",
     "evalue": "name 'count' is not defined",
     "output_type": "error",
     "traceback": [
      "\u001b[1;31m---------------------------------------------------------------------------\u001b[0m",
      "\u001b[1;31mNameError\u001b[0m                                 Traceback (most recent call last)",
      "Cell \u001b[1;32mIn[56], line 1\u001b[0m\n\u001b[1;32m----> 1\u001b[0m \u001b[38;5;28;01mwhile\u001b[39;00m count\u001b[38;5;241m<\u001b[39m\u001b[38;5;241m6\u001b[39m:\n\u001b[0;32m      2\u001b[0m     name \u001b[38;5;241m=\u001b[39m \u001b[38;5;28minput\u001b[39m(\u001b[38;5;124m\"\u001b[39m\u001b[38;5;124mEnter a name:\u001b[39m\u001b[38;5;124m\"\u001b[39m)\n\u001b[0;32m      3\u001b[0m     \u001b[38;5;28mprint\u001b[39m(\u001b[38;5;124mf\u001b[39m\u001b[38;5;124m\"\u001b[39m\u001b[38;5;124mYour name is \u001b[39m\u001b[38;5;132;01m{\u001b[39;00mname\u001b[38;5;132;01m}\u001b[39;00m\u001b[38;5;124m\"\u001b[39m)\n",
      "\u001b[1;31mNameError\u001b[0m: name 'count' is not defined"
     ]
    }
   ],
   "source": [
    "while count<6:\n",
    "    name = input(\"Enter a name:\")\n",
    "    print(f\"Your name is {name}\") "
   ]
  },
  {
   "cell_type": "code",
   "execution_count": 58,
   "id": "19248ee6-67b6-418d-bd4d-08ecbc47c05e",
   "metadata": {},
   "outputs": [
    {
     "name": "stdin",
     "output_type": "stream",
     "text": [
      "Enter a name: fav\n"
     ]
    },
    {
     "name": "stdout",
     "output_type": "stream",
     "text": [
      "Your name is fav\n"
     ]
    },
    {
     "name": "stdin",
     "output_type": "stream",
     "text": [
      "Enter a name: dan\n"
     ]
    },
    {
     "name": "stdout",
     "output_type": "stream",
     "text": [
      "Your name is dan\n"
     ]
    },
    {
     "name": "stdin",
     "output_type": "stream",
     "text": [
      "Enter a name: dian\n"
     ]
    },
    {
     "name": "stdout",
     "output_type": "stream",
     "text": [
      "Your name is dian\n"
     ]
    },
    {
     "name": "stdin",
     "output_type": "stream",
     "text": [
      "Enter a name: ivian\n"
     ]
    },
    {
     "name": "stdout",
     "output_type": "stream",
     "text": [
      "Your name is ivian\n"
     ]
    },
    {
     "name": "stdin",
     "output_type": "stream",
     "text": [
      "Enter a name: chomzy\n"
     ]
    },
    {
     "name": "stdout",
     "output_type": "stream",
     "text": [
      "Your name is chomzy\n"
     ]
    }
   ],
   "source": [
    "count=1\n",
    "while count<6:\n",
    "    name = input(\"Enter a name:\")\n",
    "    print(f\"Your name is {name}\")\n",
    "    count = count +1\n",
    "    "
   ]
  },
  {
   "cell_type": "code",
   "execution_count": 59,
   "id": "620cc9a2-ce94-4602-ae94-9160fd277102",
   "metadata": {},
   "outputs": [
    {
     "name": "stdin",
     "output_type": "stream",
     "text": [
      "Enter a number:  fccc\n"
     ]
    },
    {
     "ename": "ValueError",
     "evalue": "could not convert string to float: 'fccc'",
     "output_type": "error",
     "traceback": [
      "\u001b[1;31m---------------------------------------------------------------------------\u001b[0m",
      "\u001b[1;31mValueError\u001b[0m                                Traceback (most recent call last)",
      "Cell \u001b[1;32mIn[59], line 2\u001b[0m\n\u001b[0;32m      1\u001b[0m \u001b[38;5;28;01mwhile\u001b[39;00m number \u001b[38;5;241m>\u001b[39m\u001b[38;5;241m=\u001b[39m\u001b[38;5;241m0\u001b[39m:\n\u001b[1;32m----> 2\u001b[0m     number \u001b[38;5;241m=\u001b[39m \u001b[38;5;28mfloat\u001b[39m(\u001b[38;5;28minput\u001b[39m(\u001b[38;5;124m\"\u001b[39m\u001b[38;5;124mEnter a number: \u001b[39m\u001b[38;5;124m\"\u001b[39m))\n\u001b[0;32m      3\u001b[0m     \u001b[38;5;28mprint\u001b[39m(number)\n",
      "\u001b[1;31mValueError\u001b[0m: could not convert string to float: 'fccc'"
     ]
    }
   ],
   "source": [
    "while number >=0:\n",
    "    number = float(input(\"Enter a number: \"))\n",
    "    print(number)"
   ]
  },
  {
   "cell_type": "code",
   "execution_count": 61,
   "id": "1a8e148c-e2bb-435a-b678-2bf8abbd505f",
   "metadata": {},
   "outputs": [
    {
     "name": "stdin",
     "output_type": "stream",
     "text": [
      "Enter a number:  -5\n"
     ]
    },
    {
     "name": "stdout",
     "output_type": "stream",
     "text": [
      "-5.0\n"
     ]
    }
   ],
   "source": [
    "number = 2\n",
    "while number >=0:\n",
    "    number = float(input(\"Enter a number: \"))\n",
    "    print(number)"
   ]
  },
  {
   "cell_type": "code",
   "execution_count": 62,
   "id": "b808f5b0-24a8-4f9d-af80-bc87845b670f",
   "metadata": {},
   "outputs": [
    {
     "name": "stdin",
     "output_type": "stream",
     "text": [
      "Enter a number:  33\n"
     ]
    },
    {
     "name": "stdout",
     "output_type": "stream",
     "text": [
      "33.0\n"
     ]
    },
    {
     "name": "stdin",
     "output_type": "stream",
     "text": [
      "Enter a number:  -22\n"
     ]
    }
   ],
   "source": [
    "number = float(input(\"Enter a number: \"))\n",
    "while number >=0:\n",
    "    print(number)\n",
    "    number = float(input(\"Enter a number: \"))"
   ]
  },
  {
   "cell_type": "markdown",
   "id": "3ab16447-026e-4f75-b0be-db47ead87d6d",
   "metadata": {},
   "source": [
    "## Break and continuous statement"
   ]
  },
  {
   "cell_type": "code",
   "execution_count": 64,
   "id": "38d36e6c-d1e7-4874-9f4d-6c051a7f5961",
   "metadata": {},
   "outputs": [
    {
     "name": "stdout",
     "output_type": "stream",
     "text": [
      "s\n",
      "m\n",
      "i\n",
      "t\n",
      "h\n"
     ]
    }
   ],
   "source": [
    "for char in \"smith\":\n",
    "    print(char)"
   ]
  },
  {
   "cell_type": "code",
   "execution_count": 65,
   "id": "e6df3075-091b-4504-83f6-1f6f61a83f8c",
   "metadata": {},
   "outputs": [
    {
     "name": "stdout",
     "output_type": "stream",
     "text": [
      "s\n",
      "m\n",
      "t\n",
      "h\n"
     ]
    }
   ],
   "source": [
    "for char in \"smith\":\n",
    "    if char ==\"i\":\n",
    "        continue\n",
    "    print(char)\n"
   ]
  },
  {
   "cell_type": "code",
   "execution_count": 66,
   "id": "ef55694d-290f-48d7-9219-de6c97dae22e",
   "metadata": {},
   "outputs": [
    {
     "name": "stdout",
     "output_type": "stream",
     "text": [
      "s\n",
      "m\n"
     ]
    }
   ],
   "source": [
    "for char in \"smith\":\n",
    "    if char ==\"i\":\n",
    "        break\n",
    "    print(char)"
   ]
  },
  {
   "cell_type": "markdown",
   "id": "ef3139b0-3a25-4643-b7b9-23d964156165",
   "metadata": {},
   "source": [
    "## containers"
   ]
  },
  {
   "cell_type": "code",
   "execution_count": 69,
   "id": "91f5a78d-a00f-44c2-a915-fa44878504a5",
   "metadata": {},
   "outputs": [],
   "source": [
    "names =[\"ChemChris\",\"Smith\",\"Okon\",\"Charles\",\"Clayton\"]"
   ]
  },
  {
   "cell_type": "code",
   "execution_count": 70,
   "id": "8037451b-e1bc-4834-bd01-6b09b8979692",
   "metadata": {},
   "outputs": [
    {
     "data": {
      "text/plain": [
       "list"
      ]
     },
     "execution_count": 70,
     "metadata": {},
     "output_type": "execute_result"
    }
   ],
   "source": [
    "type(names)"
   ]
  },
  {
   "cell_type": "code",
   "execution_count": 71,
   "id": "2a0a609c-ea02-42b3-8a0c-8a01cf076faa",
   "metadata": {},
   "outputs": [
    {
     "data": {
      "text/plain": [
       "'ChemChris'"
      ]
     },
     "execution_count": 71,
     "metadata": {},
     "output_type": "execute_result"
    }
   ],
   "source": [
    "names[0]"
   ]
  },
  {
   "cell_type": "code",
   "execution_count": 72,
   "id": "15963bab-4259-43b9-ba2f-7705a19110b6",
   "metadata": {},
   "outputs": [
    {
     "data": {
      "text/plain": [
       "'Smith'"
      ]
     },
     "execution_count": 72,
     "metadata": {},
     "output_type": "execute_result"
    }
   ],
   "source": [
    "names[1]"
   ]
  },
  {
   "cell_type": "code",
   "execution_count": 73,
   "id": "25b9f7b5-c4bb-4427-8be8-200b2f8786d7",
   "metadata": {},
   "outputs": [
    {
     "data": {
      "text/plain": [
       "'Clayton'"
      ]
     },
     "execution_count": 73,
     "metadata": {},
     "output_type": "execute_result"
    }
   ],
   "source": [
    "names[-1]"
   ]
  },
  {
   "cell_type": "code",
   "execution_count": 74,
   "id": "ef38f7d7-3938-4711-ae23-d3b76e2b4b11",
   "metadata": {},
   "outputs": [
    {
     "data": {
      "text/plain": [
       "'Okon'"
      ]
     },
     "execution_count": 74,
     "metadata": {},
     "output_type": "execute_result"
    }
   ],
   "source": [
    "names[-3]"
   ]
  },
  {
   "cell_type": "code",
   "execution_count": 75,
   "id": "6ce8ca51-253f-41f2-8346-99914b0bcb6e",
   "metadata": {},
   "outputs": [
    {
     "data": {
      "text/plain": [
       "5"
      ]
     },
     "execution_count": 75,
     "metadata": {},
     "output_type": "execute_result"
    }
   ],
   "source": [
    "len(names)"
   ]
  },
  {
   "cell_type": "code",
   "execution_count": 76,
   "id": "7ed5f457-5504-4c7e-8b84-49874c70d49e",
   "metadata": {},
   "outputs": [
    {
     "data": {
      "text/plain": [
       "['ChemChris', 'Smith', 'Okon']"
      ]
     },
     "execution_count": 76,
     "metadata": {},
     "output_type": "execute_result"
    }
   ],
   "source": [
    "names[0:3]"
   ]
  },
  {
   "cell_type": "code",
   "execution_count": 77,
   "id": "c426a2d3-e4b7-4f0a-9411-76a323b65f07",
   "metadata": {},
   "outputs": [
    {
     "data": {
      "text/plain": [
       "['Smith', 'Okon']"
      ]
     },
     "execution_count": 77,
     "metadata": {},
     "output_type": "execute_result"
    }
   ],
   "source": [
    "names[1:3]"
   ]
  },
  {
   "cell_type": "code",
   "execution_count": 78,
   "id": "72dcf747-01ba-4b32-98f4-35a11ef78229",
   "metadata": {},
   "outputs": [
    {
     "data": {
      "text/plain": [
       "['ChemChris', 'Smith', 'Okon']"
      ]
     },
     "execution_count": 78,
     "metadata": {},
     "output_type": "execute_result"
    }
   ],
   "source": [
    "names[:3]"
   ]
  },
  {
   "cell_type": "code",
   "execution_count": 79,
   "id": "23af3acc-4b8d-41bf-892a-d26fc6d35db6",
   "metadata": {},
   "outputs": [
    {
     "data": {
      "text/plain": [
       "'Okon'"
      ]
     },
     "execution_count": 79,
     "metadata": {},
     "output_type": "execute_result"
    }
   ],
   "source": [
    "names[:4][-2]"
   ]
  },
  {
   "cell_type": "code",
   "execution_count": 80,
   "id": "50026a8f-9555-42b6-af2c-8b32f8378eef",
   "metadata": {},
   "outputs": [
    {
     "data": {
      "text/plain": [
       "'ChemChris'"
      ]
     },
     "execution_count": 80,
     "metadata": {},
     "output_type": "execute_result"
    }
   ],
   "source": [
    "names[:2][-2]"
   ]
  },
  {
   "cell_type": "code",
   "execution_count": 81,
   "id": "8d29312d-cf23-4e28-a06d-17f7ed0877c9",
   "metadata": {},
   "outputs": [
    {
     "data": {
      "text/plain": [
       "['ChemChris', 'Smith', 'Okon', 'Charles', 'Clayton', 'Edison']"
      ]
     },
     "execution_count": 81,
     "metadata": {},
     "output_type": "execute_result"
    }
   ],
   "source": [
    "names.append(\"Edison\")\n",
    "names "
   ]
  },
  {
   "cell_type": "code",
   "execution_count": 82,
   "id": "ae8ae48b-e382-40d8-bbd1-eae6d8fd8230",
   "metadata": {},
   "outputs": [
    {
     "data": {
      "text/plain": [
       "['ChemChris', 'Smith', 'Okon', 'Charles', 'Clayton', 'Edison', 'German']"
      ]
     },
     "execution_count": 82,
     "metadata": {},
     "output_type": "execute_result"
    }
   ],
   "source": [
    "names.append(\"German\")\n",
    "names"
   ]
  },
  {
   "cell_type": "code",
   "execution_count": 83,
   "id": "5c5f2052-3421-4515-b97c-4b3a4baa9713",
   "metadata": {},
   "outputs": [
    {
     "data": {
      "text/plain": [
       "['ChemChris', 'Smith', 'Okon', 'Charles', 'Clayton', 'Edison']"
      ]
     },
     "execution_count": 83,
     "metadata": {},
     "output_type": "execute_result"
    }
   ],
   "source": [
    "names.pop()\n",
    "names"
   ]
  },
  {
   "cell_type": "code",
   "execution_count": 84,
   "id": "9bc5d224-c5a8-4155-9de2-ad136740e17b",
   "metadata": {},
   "outputs": [
    {
     "data": {
      "text/plain": [
       "['ChemChris', 'Okon', 'Charles', 'Clayton', 'Edison']"
      ]
     },
     "execution_count": 84,
     "metadata": {},
     "output_type": "execute_result"
    }
   ],
   "source": [
    "names.pop(1)\n",
    "names"
   ]
  },
  {
   "cell_type": "code",
   "execution_count": 85,
   "id": "74ec5072-b9fc-440d-8a8c-a2824267848a",
   "metadata": {},
   "outputs": [
    {
     "data": {
      "text/plain": [
       "['ChemChris', 'Okon', 'Clayton', 'Edison']"
      ]
     },
     "execution_count": 85,
     "metadata": {},
     "output_type": "execute_result"
    }
   ],
   "source": [
    "names.remove(\"Charles\")\n",
    "names"
   ]
  },
  {
   "cell_type": "code",
   "execution_count": 86,
   "id": "deac1d27-aee2-4e8d-bc3a-4c1c07c536d6",
   "metadata": {},
   "outputs": [
    {
     "data": {
      "text/plain": [
       "['Diamond', 'ChemChris', 'Okon', 'Clayton', 'Edison']"
      ]
     },
     "execution_count": 86,
     "metadata": {},
     "output_type": "execute_result"
    }
   ],
   "source": [
    "names.insert(0,\"Diamond\")\n",
    "names"
   ]
  },
  {
   "cell_type": "code",
   "execution_count": 87,
   "id": "afc96e52-04e6-4d4b-90a2-1ba1e08da0b0",
   "metadata": {},
   "outputs": [
    {
     "data": {
      "text/plain": [
       "['Diamond', 'ChemChris']"
      ]
     },
     "execution_count": 87,
     "metadata": {},
     "output_type": "execute_result"
    }
   ],
   "source": [
    "names.remove(\"Clayton\")\n",
    "names.remove(\"Okon\")\n",
    "names.remove(\"Edison\")\n",
    "names"
   ]
  },
  {
   "cell_type": "code",
   "execution_count": null,
   "id": "3c24180d-a028-409b-80c2-e14a71684f10",
   "metadata": {},
   "outputs": [],
   "source": []
  }
 ],
 "metadata": {
  "kernelspec": {
   "display_name": "Python [conda env:base] *",
   "language": "python",
   "name": "conda-base-py"
  },
  "language_info": {
   "codemirror_mode": {
    "name": "ipython",
    "version": 3
   },
   "file_extension": ".py",
   "mimetype": "text/x-python",
   "name": "python",
   "nbconvert_exporter": "python",
   "pygments_lexer": "ipython3",
   "version": "3.12.7"
  }
 },
 "nbformat": 4,
 "nbformat_minor": 5
}
